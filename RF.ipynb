{
 "cells": [
  {
   "cell_type": "code",
   "execution_count": 1,
   "metadata": {},
   "outputs": [],
   "source": [
    "import pandas as pd\n",
    "import numpy as np\n",
    "\n",
    "train_data = pd.read_excel(\"Data/tr.xlsx\",)"
   ]
  },
  {
   "cell_type": "code",
   "execution_count": 2,
   "metadata": {},
   "outputs": [],
   "source": [
    "over_missing_sample = []\n",
    "row_value_count = train_data.apply(pd.Series.value_counts,axis=1,dropna=False)"
   ]
  },
  {
   "cell_type": "code",
   "execution_count": 74,
   "metadata": {},
   "outputs": [],
   "source": [
    "import tools\n",
    "#Data transform\n",
    "train_y = pd.DataFrame(train_data['outcome']) \n",
    "train_X = pd.DataFrame(train_data.drop(['outcome'],axis=1))\n",
    "\n",
    "train_X = tools.data_transform(train_X)"
   ]
  },
  {
   "cell_type": "code",
   "execution_count": 75,
   "metadata": {},
   "outputs": [
    {
     "name": "stdout",
     "output_type": "stream",
     "text": [
      "[879, 51280]\n",
      "[879, 27076]\n"
     ]
    }
   ],
   "source": [
    "threshhold =len(train_X.columns)*0.25\n",
    "over_missing = row_value_count[np.nan]<=threshhold\n",
    "class_0 = train_y['outcome']==1\n",
    "\n",
    "print(sorted(train_y.value_counts()))\n",
    "train_X = train_X[over_missing|class_0]\n",
    "train_y = train_y[over_missing|class_0]\n",
    "print(sorted(train_y.value_counts()))\n"
   ]
  },
  {
   "cell_type": "code",
   "execution_count": 76,
   "metadata": {},
   "outputs": [
    {
     "name": "stdout",
     "output_type": "stream",
     "text": [
      "[718, 21646]\n",
      "[161, 5430]\n"
     ]
    }
   ],
   "source": [
    "# Data split\n",
    "from sklearn.model_selection import train_test_split\n",
    "\n",
    "train_X, val_X, train_y, val_y = train_test_split(\n",
    "    train_X ,\n",
    "    train_y,\n",
    "    test_size=0.2,\n",
    "    random_state=42)\n",
    "\n",
    "print(sorted(train_y.value_counts()))\n",
    "print(sorted(val_y.value_counts()))"
   ]
  },
  {
   "cell_type": "code",
   "execution_count": 77,
   "metadata": {},
   "outputs": [
    {
     "name": "stdout",
     "output_type": "stream",
     "text": [
      "[718, 21646]\n",
      "[718, 7180]\n"
     ]
    }
   ],
   "source": [
    "from imblearn.under_sampling import RandomUnderSampler as RUS\n",
    "\n",
    "print(sorted(train_y.value_counts()))\n",
    "\n",
    "rus = RUS(sampling_strategy=0.1,random_state=42)\n",
    "train_X,train_y = rus.fit_resample(train_X,train_y)\n",
    "\n",
    "print(sorted(train_y.value_counts()))"
   ]
  },
  {
   "cell_type": "code",
   "execution_count": 78,
   "metadata": {},
   "outputs": [
    {
     "name": "stdout",
     "output_type": "stream",
     "text": [
      "(7898, 66)\n",
      "(7898, 30)\n"
     ]
    }
   ],
   "source": [
    "from sklearn.feature_selection import VarianceThreshold as VT\n",
    "\n",
    "vt= VT(0.2)\n",
    "\n",
    "vt.fit(train_X)\n",
    "print(train_X.shape)\n",
    "\n",
    "train_X = pd.DataFrame(vt.transform(train_X)) \n",
    "val_X =  pd.DataFrame(vt.transform(val_X))\n",
    "\n",
    "print(train_X.shape)"
   ]
  },
  {
   "cell_type": "code",
   "execution_count": 79,
   "metadata": {},
   "outputs": [
    {
     "name": "stdout",
     "output_type": "stream",
     "text": [
      "filled continuous missing value with median\n",
      "filled nominal missing value with  constant\n"
     ]
    }
   ],
   "source": [
    "# Missing value imputation\n",
    "from sklearn.impute import SimpleImputer\n",
    "from sklearn.experimental import enable_iterative_imputer\n",
    "from sklearn.impute import IterativeImputer\n",
    "import tools\n",
    "feature_kind = tools.init_feature_kind(train_X)\n",
    "cont,cate = tools.get_feature_kind(train_X,feature_kind)  \n",
    "\n",
    "strategy = 'median'\n",
    "\n",
    "imp_mean = IterativeImputer(max_iter=100,random_state=0)\n",
    "imp_mean.fit(train_X[cont])\n",
    "\n",
    "train_X[cont] = imp_mean.transform(train_X[cont])\n",
    "val_X[cont] = imp_mean.transform(val_X[cont])\n",
    "\n",
    "print(\"filled continuous missing value with \"+strategy)\n",
    "\n",
    "strategy = 'constant'\n",
    "\n",
    "imp = SimpleImputer(missing_values=np.nan, strategy=strategy,fill_value=10.0)\n",
    "imp.fit(train_X[cate])\n",
    "\n",
    "train_X[cate] = imp.transform(train_X[cate])\n",
    "val_X[cate] = imp.transform(val_X[cate])\n",
    "\n",
    "\n",
    "print(\"filled nominal missing value with \",strategy)\n"
   ]
  },
  {
   "cell_type": "code",
   "execution_count": 80,
   "metadata": {},
   "outputs": [],
   "source": [
    "from sklearn import preprocessing\n",
    "\n",
    "\n",
    "cont,cate = tools.get_feature_kind(train_X,feature_kind)\n",
    "\n",
    "scaler = preprocessing.StandardScaler().fit(train_X[cont])\n",
    "train_X[cont] = scaler.transform(train_X[cont])\n",
    "val_X[cont] = scaler.transform(val_X[cont])"
   ]
  },
  {
   "cell_type": "code",
   "execution_count": 81,
   "metadata": {},
   "outputs": [
    {
     "data": {
      "text/plain": [
       "['mean_fit_time',\n",
       " 'mean_score_time',\n",
       " 'mean_test_score',\n",
       " 'param_bootstrap',\n",
       " 'param_criterion',\n",
       " 'param_n_estimators',\n",
       " 'params',\n",
       " 'rank_test_score',\n",
       " 'split0_test_score',\n",
       " 'split1_test_score',\n",
       " 'split2_test_score',\n",
       " 'split3_test_score',\n",
       " 'split4_test_score',\n",
       " 'std_fit_time',\n",
       " 'std_score_time',\n",
       " 'std_test_score']"
      ]
     },
     "execution_count": 81,
     "metadata": {},
     "output_type": "execute_result"
    }
   ],
   "source": [
    "from sklearn.ensemble import RandomForestClassifier as RFC\n",
    "from sklearn.model_selection import GridSearchCV\n",
    "clf = RFC(random_state=42,n_jobs=5)\n",
    "\n",
    "parameters = {\n",
    "    'n_estimators':[100,10,200,500],\n",
    "    'criterion':(\"gini\",\"entropy\"),\n",
    "    'bootstrap':[True,False]\n",
    "    }\n",
    "\n",
    "GS = GridSearchCV(clf, parameters,n_jobs=5,scoring='f1')\n",
    "GS.fit(train_X, train_y['outcome'])\n",
    "\n",
    "\n",
    "sorted(GS.cv_results_.keys())"
   ]
  },
  {
   "cell_type": "code",
   "execution_count": 82,
   "metadata": {},
   "outputs": [
    {
     "name": "stdout",
     "output_type": "stream",
     "text": [
      "{'bootstrap': False, 'criterion': 'gini', 'n_estimators': 500}\n",
      "    mean_fit_time  std_fit_time  mean_score_time  std_score_time  \\\n",
      "0        0.658384      0.091159         0.059243        0.007920   \n",
      "1        0.078238      0.004885         0.016203        0.002135   \n",
      "2        1.334204      0.189339         0.102243        0.009358   \n",
      "3        3.477599      0.573176         0.211886        0.012749   \n",
      "4        0.660148      0.036896         0.051219        0.002711   \n",
      "5        0.091420      0.008959         0.014004        0.001266   \n",
      "6        1.608505      0.260770         0.091832        0.007031   \n",
      "7        4.277824      0.779033         0.250274        0.048961   \n",
      "8        0.827420      0.017800         0.066626        0.035081   \n",
      "9        0.135830      0.045750         0.032207        0.021513   \n",
      "10       2.154429      0.452014         0.158408        0.066380   \n",
      "11       5.246040      1.129059         0.327818        0.108778   \n",
      "12       1.002575      0.028427         0.061026        0.012556   \n",
      "13       0.126845      0.018752         0.029208        0.014137   \n",
      "14       2.585597      0.531634         0.170093        0.101748   \n",
      "15       5.705631      0.644716         0.176567        0.028579   \n",
      "\n",
      "   param_bootstrap param_criterion param_n_estimators  \\\n",
      "0             True            gini                100   \n",
      "1             True            gini                 10   \n",
      "2             True            gini                200   \n",
      "3             True            gini                500   \n",
      "4             True         entropy                100   \n",
      "5             True         entropy                 10   \n",
      "6             True         entropy                200   \n",
      "7             True         entropy                500   \n",
      "8            False            gini                100   \n",
      "9            False            gini                 10   \n",
      "10           False            gini                200   \n",
      "11           False            gini                500   \n",
      "12           False         entropy                100   \n",
      "13           False         entropy                 10   \n",
      "14           False         entropy                200   \n",
      "15           False         entropy                500   \n",
      "\n",
      "                                               params  split0_test_score  \\\n",
      "0   {'bootstrap': True, 'criterion': 'gini', 'n_es...           0.755365   \n",
      "1   {'bootstrap': True, 'criterion': 'gini', 'n_es...           0.706897   \n",
      "2   {'bootstrap': True, 'criterion': 'gini', 'n_es...           0.758621   \n",
      "3   {'bootstrap': True, 'criterion': 'gini', 'n_es...           0.753247   \n",
      "4   {'bootstrap': True, 'criterion': 'entropy', 'n...           0.750000   \n",
      "5   {'bootstrap': True, 'criterion': 'entropy', 'n...           0.738197   \n",
      "6   {'bootstrap': True, 'criterion': 'entropy', 'n...           0.750000   \n",
      "7   {'bootstrap': True, 'criterion': 'entropy', 'n...           0.750000   \n",
      "8   {'bootstrap': False, 'criterion': 'gini', 'n_e...           0.771186   \n",
      "9   {'bootstrap': False, 'criterion': 'gini', 'n_e...           0.757447   \n",
      "10  {'bootstrap': False, 'criterion': 'gini', 'n_e...           0.771186   \n",
      "11  {'bootstrap': False, 'criterion': 'gini', 'n_e...           0.769231   \n",
      "12  {'bootstrap': False, 'criterion': 'entropy', '...           0.758621   \n",
      "13  {'bootstrap': False, 'criterion': 'entropy', '...           0.738197   \n",
      "14  {'bootstrap': False, 'criterion': 'entropy', '...           0.763948   \n",
      "15  {'bootstrap': False, 'criterion': 'entropy', '...           0.763948   \n",
      "\n",
      "    split1_test_score  split2_test_score  split3_test_score  \\\n",
      "0            0.769874           0.764706           0.753138   \n",
      "1            0.747899           0.753138           0.738197   \n",
      "2            0.775000           0.767932           0.761506   \n",
      "3            0.764706           0.773109           0.764706   \n",
      "4            0.769874           0.761506           0.758333   \n",
      "5            0.761506           0.761506           0.740741   \n",
      "6            0.769874           0.758333           0.758333   \n",
      "7            0.769874           0.761506           0.758333   \n",
      "8            0.764706           0.761506           0.764706   \n",
      "9            0.742616           0.745902           0.775000   \n",
      "10           0.764706           0.767932           0.764706   \n",
      "11           0.769874           0.769874           0.764706   \n",
      "12           0.776860           0.764706           0.764706   \n",
      "13           0.769874           0.756303           0.770492   \n",
      "14           0.771784           0.764706           0.764706   \n",
      "15           0.771784           0.764706           0.764706   \n",
      "\n",
      "    split4_test_score  mean_test_score  std_test_score  rank_test_score  \n",
      "0            0.716814         0.751979        0.018610               10  \n",
      "1            0.699115         0.729049        0.021937               16  \n",
      "2            0.716814         0.755975        0.020377                6  \n",
      "3            0.722467         0.755647        0.017752                7  \n",
      "4            0.716814         0.751306        0.018383               12  \n",
      "5            0.693333         0.739057        0.024909               15  \n",
      "6            0.722467         0.751802        0.015973               11  \n",
      "7            0.722467         0.752436        0.016280                9  \n",
      "8            0.707965         0.754014        0.023239                8  \n",
      "9            0.696035         0.743400        0.026253               14  \n",
      "10           0.716814         0.757069        0.020270                5  \n",
      "11           0.716814         0.758100        0.020733                1  \n",
      "12           0.722467         0.757472        0.018478                4  \n",
      "13           0.714286         0.749830        0.021304               13  \n",
      "14           0.722467         0.757522        0.017758                3  \n",
      "15           0.724891         0.758007        0.016802                2  \n"
     ]
    }
   ],
   "source": [
    "print(GS.best_params_)\n",
    "print(pd.DataFrame(GS.cv_results_))"
   ]
  },
  {
   "cell_type": "code",
   "execution_count": 84,
   "metadata": {},
   "outputs": [
    {
     "name": "stdout",
     "output_type": "stream",
     "text": [
      "                                   train                      val\n",
      "confusion matrix   [[7180, 0], [0, 718]]  [[5419, 11], [58, 103]]\n",
      "acc                                  1.0                 0.987659\n",
      "precision                            1.0                 0.903509\n",
      "f1_score                             1.0                 0.749091\n",
      "recall                               1.0                 0.639752\n",
      "matthews_corrcoef                    1.0                 0.754611\n"
     ]
    }
   ],
   "source": [
    "from sklearn.feature_selection import RFE\n",
    "\n",
    "best_parameters = {'bootstrap': False, 'criterion': 'gini', 'n_estimators': 500}\n",
    "\n",
    "\n",
    "clf = RFC(**best_parameters,class_weight={1:1,0:0.1},n_jobs=5) \n",
    "\n",
    "clf.fit(train_X, train_y['outcome'])\n",
    "result = clf.predict(val_X)\n",
    "\n",
    "\n",
    "print(pd.DataFrame({\n",
    "    'train':tools.get_performance(train_y,clf.predict(train_X)),\n",
    "    'val':tools.get_performance(val_y,result)\n",
    "    }\n",
    "    ))\n",
    "\n",
    "\n"
   ]
  }
 ],
 "metadata": {
  "interpreter": {
   "hash": "758b741b386b57519efd53b073ac35bdb1f696dd4ad70fef9c572829f656d496"
  },
  "kernelspec": {
   "display_name": "Python 3.9.9 64-bit (windows store)",
   "language": "python",
   "name": "python3"
  },
  "language_info": {
   "codemirror_mode": {
    "name": "ipython",
    "version": 3
   },
   "file_extension": ".py",
   "mimetype": "text/x-python",
   "name": "python",
   "nbconvert_exporter": "python",
   "pygments_lexer": "ipython3",
   "version": "3.8.8"
  },
  "orig_nbformat": 4
 },
 "nbformat": 4,
 "nbformat_minor": 2
}
